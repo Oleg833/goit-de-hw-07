{
 "cells": [
  {
   "cell_type": "code",
   "execution_count": 1,
   "metadata": {},
   "outputs": [
    {
     "name": "stdout",
     "output_type": "stream",
     "text": [
      "Collecting requests\n",
      "  Using cached requests-2.32.3-py3-none-any.whl.metadata (4.6 kB)\n",
      "Collecting charset-normalizer<4,>=2 (from requests)\n",
      "  Using cached charset_normalizer-3.4.0-cp311-cp311-win_amd64.whl.metadata (34 kB)\n",
      "Collecting idna<4,>=2.5 (from requests)\n",
      "  Using cached idna-3.10-py3-none-any.whl.metadata (10 kB)\n",
      "Collecting urllib3<3,>=1.21.1 (from requests)\n",
      "  Using cached urllib3-2.2.3-py3-none-any.whl.metadata (6.5 kB)\n",
      "Collecting certifi>=2017.4.17 (from requests)\n",
      "  Using cached certifi-2024.8.30-py3-none-any.whl.metadata (2.2 kB)\n",
      "Using cached requests-2.32.3-py3-none-any.whl (64 kB)\n",
      "Using cached certifi-2024.8.30-py3-none-any.whl (167 kB)\n",
      "Using cached charset_normalizer-3.4.0-cp311-cp311-win_amd64.whl (101 kB)\n",
      "Using cached idna-3.10-py3-none-any.whl (70 kB)\n",
      "Using cached urllib3-2.2.3-py3-none-any.whl (126 kB)\n",
      "Installing collected packages: urllib3, idna, charset-normalizer, certifi, requests\n",
      "Successfully installed certifi-2024.8.30 charset-normalizer-3.4.0 idna-3.10 requests-2.32.3 urllib3-2.2.3\n"
     ]
    }
   ],
   "source": [
    "!pip install requests"
   ]
  },
  {
   "cell_type": "code",
   "execution_count": 3,
   "metadata": {},
   "outputs": [
    {
     "name": "stdout",
     "output_type": "stream",
     "text": [
      "Файл успішно завантажено: Файл успішно завантажено\n"
     ]
    }
   ],
   "source": [
    "import requests\n",
    "\n",
    "\n",
    "def upload_file(api_url, file_path):\n",
    "    \"\"\"\n",
    "    Завантажує файл на вказаний API URL.\n",
    "\n",
    "    Args:\n",
    "        api_url (str): URL для завантаження файлу.\n",
    "        file_path (str): Шлях до файлу, який потрібно завантажити.\n",
    "\n",
    "    Returns:\n",
    "        str: Відповідь від API.\n",
    "    \"\"\"\n",
    "    try:\n",
    "        with open(file_path, \"rb\") as file:\n",
    "            files = {\"file\": file}\n",
    "            response = requests.post(api_url, files=files)\n",
    "\n",
    "            # Перевірка статусу відповіді\n",
    "            if response.status_code == 200:\n",
    "                return f\"Файл успішно завантажено: {response.text}\"\n",
    "            else:\n",
    "                return f\"Помилка: {response.status_code}, {response.text}\"\n",
    "    except Exception as e:\n",
    "        return f\"Помилка під час завантаження: {str(e)}\"\n",
    "\n",
    "\n",
    "# Використання функції\n",
    "api_url = \"https://load-dag-135714666888.us-central1.run.app\"\n",
    "file_path = \"test_dag.py\"  # Заміна на фактичний шлях до файлу\n",
    "print(upload_file(api_url, file_path))\n"
   ]
  }
 ],
 "metadata": {
  "kernelspec": {
   "display_name": ".venv",
   "language": "python",
   "name": "python3"
  },
  "language_info": {
   "codemirror_mode": {
    "name": "ipython",
    "version": 3
   },
   "file_extension": ".py",
   "mimetype": "text/x-python",
   "name": "python",
   "nbconvert_exporter": "python",
   "pygments_lexer": "ipython3",
   "version": "3.11.9"
  }
 },
 "nbformat": 4,
 "nbformat_minor": 2
}
